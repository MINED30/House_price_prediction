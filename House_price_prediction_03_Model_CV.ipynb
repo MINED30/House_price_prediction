{
  "nbformat": 4,
  "nbformat_minor": 0,
  "metadata": {
    "colab": {
      "name": "House_price_prediction_03_Model_CV.ipynb",
      "provenance": [],
      "collapsed_sections": [],
      "toc_visible": true,
      "machine_shape": "hm"
    },
    "kernelspec": {
      "name": "python3",
      "display_name": "Python 3"
    },
    "accelerator": "GPU"
  },
  "cells": [
    {
      "cell_type": "markdown",
      "metadata": {
        "id": "lBj_yFfw_pBy"
      },
      "source": [
        "## import\n"
      ]
    },
    {
      "cell_type": "code",
      "metadata": {
        "id": "JBCCmTF-cE5T"
      },
      "source": [
        "!pip install category_encoders\n",
        "!sudo apt-get install -y fonts-nanum\n",
        "!sudo fc-cache -fv\n",
        "!rm ~/.cache/matplotlib -rf\n",
        "import seaborn as sns\n",
        "import matplotlib.pyplot as plt\n",
        "import matplotlib as mpl\n",
        "import pandas as pd\n",
        "import numpy as np\n",
        "import warnings\n",
        "warnings.filterwarnings(action='ignore')\n",
        "plt.rc('font', family='NanumBarunGothic') \n",
        "mpl.rc('axes', unicode_minus=False)\n",
        "plt.rcParams[\"font.family\"] = 'nanummyeongjo'\n",
        "plt.rcParams[\"axes.grid\"] = True\n",
        "plt.rcParams[\"figure.figsize\"] = (12,6)\n",
        "plt.rcParams[\"axes.formatter.useoffset\"] = False\n",
        "plt.rcParams['axes.unicode_minus'] = False\n",
        "plt.rcParams[\"axes.formatter.limits\"] = -10000, 10000\n",
        "%matplotlib inline\n",
        "%config InlineBackend.figure_format='retina'"
      ],
      "execution_count": null,
      "outputs": []
    },
    {
      "cell_type": "markdown",
      "metadata": {
        "id": "EvMbNQ_SRJp_"
      },
      "source": [
        "# 1. Preparation"
      ]
    },
    {
      "cell_type": "markdown",
      "metadata": {
        "id": "2MzEHSkSROsO"
      },
      "source": [
        "## 1.1 Load datasets"
      ]
    },
    {
      "cell_type": "code",
      "metadata": {
        "id": "SH7UYOs6cIzy"
      },
      "source": [
        "data = pd.read_csv('/content/drive/MyDrive/final_data (1).csv')\n",
        "df = data.copy()\n",
        "df = df.drop(columns=['Unnamed: 0','거래일'])\n",
        "num_feature = ['세대','인구','자동차등록','인구이동(전입지별)',\n",
        "               '출생아수(명)', '사망자수(명)' ,'혼인건수(건)','이혼건수(건)']\n",
        "for col in num_feature:\n",
        "  df[col] = df[col].str.replace(\",\",\"\").astype(int)\n",
        "df['평당가'] = df['거래금액'] / df['전용면적']\n",
        "df['거래횟수'] = [1]*len(df.index)"
      ],
      "execution_count": 7,
      "outputs": []
    },
    {
      "cell_type": "code",
      "metadata": {
        "colab": {
          "base_uri": "https://localhost:8080/",
          "height": 819
        },
        "id": "tW0d_AmTcaCn",
        "outputId": "480716fd-d10b-4c44-eea0-a5f0c721c78b"
      },
      "source": [
        "from sklearn.cluster import KMeans\n",
        "구별랭킹 = pd.concat([df.groupby('지역코드').mean()[['평당가','거래금액']].sort_values('평당가',ascending=False),                 \n",
        "                      df.groupby('지역코드').sum()[['거래횟수']]],\n",
        "                      axis = 1)\n",
        "kmeans = KMeans(n_clusters=5)\n",
        "kmeans.fit(구별랭킹)\n",
        "구별랭킹['구별K'] = kmeans.labels_\n",
        "구별랭킹"
      ],
      "execution_count": 8,
      "outputs": [
        {
          "output_type": "execute_result",
          "data": {
            "text/html": [
              "<div>\n",
              "<style scoped>\n",
              "    .dataframe tbody tr th:only-of-type {\n",
              "        vertical-align: middle;\n",
              "    }\n",
              "\n",
              "    .dataframe tbody tr th {\n",
              "        vertical-align: top;\n",
              "    }\n",
              "\n",
              "    .dataframe thead th {\n",
              "        text-align: right;\n",
              "    }\n",
              "</style>\n",
              "<table border=\"1\" class=\"dataframe\">\n",
              "  <thead>\n",
              "    <tr style=\"text-align: right;\">\n",
              "      <th></th>\n",
              "      <th>평당가</th>\n",
              "      <th>거래금액</th>\n",
              "      <th>거래횟수</th>\n",
              "      <th>구별K</th>\n",
              "    </tr>\n",
              "  </thead>\n",
              "  <tbody>\n",
              "    <tr>\n",
              "      <th>강남구</th>\n",
              "      <td>1965.900547</td>\n",
              "      <td>172790.735915</td>\n",
              "      <td>12265</td>\n",
              "      <td>0</td>\n",
              "    </tr>\n",
              "    <tr>\n",
              "      <th>서초구</th>\n",
              "      <td>1726.341862</td>\n",
              "      <td>163525.710964</td>\n",
              "      <td>9850</td>\n",
              "      <td>0</td>\n",
              "    </tr>\n",
              "    <tr>\n",
              "      <th>송파구</th>\n",
              "      <td>1423.073380</td>\n",
              "      <td>117229.070079</td>\n",
              "      <td>15240</td>\n",
              "      <td>3</td>\n",
              "    </tr>\n",
              "    <tr>\n",
              "      <th>용산구</th>\n",
              "      <td>1417.798535</td>\n",
              "      <td>145481.003948</td>\n",
              "      <td>4812</td>\n",
              "      <td>0</td>\n",
              "    </tr>\n",
              "    <tr>\n",
              "      <th>성동구</th>\n",
              "      <td>1266.980612</td>\n",
              "      <td>98494.772688</td>\n",
              "      <td>9344</td>\n",
              "      <td>4</td>\n",
              "    </tr>\n",
              "    <tr>\n",
              "      <th>마포구</th>\n",
              "      <td>1191.961147</td>\n",
              "      <td>90848.400701</td>\n",
              "      <td>8842</td>\n",
              "      <td>4</td>\n",
              "    </tr>\n",
              "    <tr>\n",
              "      <th>광진구</th>\n",
              "      <td>1114.909593</td>\n",
              "      <td>93132.966703</td>\n",
              "      <td>4535</td>\n",
              "      <td>4</td>\n",
              "    </tr>\n",
              "    <tr>\n",
              "      <th>동작구</th>\n",
              "      <td>1071.001067</td>\n",
              "      <td>85849.420518</td>\n",
              "      <td>8461</td>\n",
              "      <td>4</td>\n",
              "    </tr>\n",
              "    <tr>\n",
              "      <th>영등포구</th>\n",
              "      <td>1029.975473</td>\n",
              "      <td>78392.765241</td>\n",
              "      <td>10121</td>\n",
              "      <td>1</td>\n",
              "    </tr>\n",
              "    <tr>\n",
              "      <th>강동구</th>\n",
              "      <td>1027.079886</td>\n",
              "      <td>75117.814662</td>\n",
              "      <td>12399</td>\n",
              "      <td>1</td>\n",
              "    </tr>\n",
              "    <tr>\n",
              "      <th>중구</th>\n",
              "      <td>1011.835658</td>\n",
              "      <td>79091.760355</td>\n",
              "      <td>3380</td>\n",
              "      <td>1</td>\n",
              "    </tr>\n",
              "    <tr>\n",
              "      <th>양천구</th>\n",
              "      <td>1000.926721</td>\n",
              "      <td>80106.613279</td>\n",
              "      <td>11507</td>\n",
              "      <td>1</td>\n",
              "    </tr>\n",
              "    <tr>\n",
              "      <th>종로구</th>\n",
              "      <td>946.691028</td>\n",
              "      <td>74959.540149</td>\n",
              "      <td>2142</td>\n",
              "      <td>1</td>\n",
              "    </tr>\n",
              "    <tr>\n",
              "      <th>서대문구</th>\n",
              "      <td>904.409304</td>\n",
              "      <td>68237.382385</td>\n",
              "      <td>8209</td>\n",
              "      <td>1</td>\n",
              "    </tr>\n",
              "    <tr>\n",
              "      <th>강서구</th>\n",
              "      <td>859.112329</td>\n",
              "      <td>61072.219892</td>\n",
              "      <td>15021</td>\n",
              "      <td>2</td>\n",
              "    </tr>\n",
              "    <tr>\n",
              "      <th>동대문구</th>\n",
              "      <td>848.548937</td>\n",
              "      <td>59769.149452</td>\n",
              "      <td>8752</td>\n",
              "      <td>2</td>\n",
              "    </tr>\n",
              "    <tr>\n",
              "      <th>성북구</th>\n",
              "      <td>769.144509</td>\n",
              "      <td>58858.286911</td>\n",
              "      <td>12774</td>\n",
              "      <td>2</td>\n",
              "    </tr>\n",
              "    <tr>\n",
              "      <th>관악구</th>\n",
              "      <td>760.426104</td>\n",
              "      <td>54469.209824</td>\n",
              "      <td>8021</td>\n",
              "      <td>2</td>\n",
              "    </tr>\n",
              "    <tr>\n",
              "      <th>은평구</th>\n",
              "      <td>734.623953</td>\n",
              "      <td>55065.121912</td>\n",
              "      <td>9351</td>\n",
              "      <td>2</td>\n",
              "    </tr>\n",
              "    <tr>\n",
              "      <th>노원구</th>\n",
              "      <td>726.248617</td>\n",
              "      <td>45667.180333</td>\n",
              "      <td>25464</td>\n",
              "      <td>2</td>\n",
              "    </tr>\n",
              "    <tr>\n",
              "      <th>구로구</th>\n",
              "      <td>697.858907</td>\n",
              "      <td>49927.368378</td>\n",
              "      <td>13478</td>\n",
              "      <td>2</td>\n",
              "    </tr>\n",
              "    <tr>\n",
              "      <th>강북구</th>\n",
              "      <td>674.652714</td>\n",
              "      <td>49009.045639</td>\n",
              "      <td>5653</td>\n",
              "      <td>2</td>\n",
              "    </tr>\n",
              "    <tr>\n",
              "      <th>중랑구</th>\n",
              "      <td>657.136930</td>\n",
              "      <td>45164.718913</td>\n",
              "      <td>8243</td>\n",
              "      <td>2</td>\n",
              "    </tr>\n",
              "    <tr>\n",
              "      <th>금천구</th>\n",
              "      <td>634.319841</td>\n",
              "      <td>43204.616049</td>\n",
              "      <td>4860</td>\n",
              "      <td>2</td>\n",
              "    </tr>\n",
              "    <tr>\n",
              "      <th>도봉구</th>\n",
              "      <td>601.020968</td>\n",
              "      <td>41282.194681</td>\n",
              "      <td>11732</td>\n",
              "      <td>2</td>\n",
              "    </tr>\n",
              "  </tbody>\n",
              "</table>\n",
              "</div>"
            ],
            "text/plain": [
              "              평당가           거래금액   거래횟수  구별K\n",
              "강남구   1965.900547  172790.735915  12265    0\n",
              "서초구   1726.341862  163525.710964   9850    0\n",
              "송파구   1423.073380  117229.070079  15240    3\n",
              "용산구   1417.798535  145481.003948   4812    0\n",
              "성동구   1266.980612   98494.772688   9344    4\n",
              "마포구   1191.961147   90848.400701   8842    4\n",
              "광진구   1114.909593   93132.966703   4535    4\n",
              "동작구   1071.001067   85849.420518   8461    4\n",
              "영등포구  1029.975473   78392.765241  10121    1\n",
              "강동구   1027.079886   75117.814662  12399    1\n",
              "중구    1011.835658   79091.760355   3380    1\n",
              "양천구   1000.926721   80106.613279  11507    1\n",
              "종로구    946.691028   74959.540149   2142    1\n",
              "서대문구   904.409304   68237.382385   8209    1\n",
              "강서구    859.112329   61072.219892  15021    2\n",
              "동대문구   848.548937   59769.149452   8752    2\n",
              "성북구    769.144509   58858.286911  12774    2\n",
              "관악구    760.426104   54469.209824   8021    2\n",
              "은평구    734.623953   55065.121912   9351    2\n",
              "노원구    726.248617   45667.180333  25464    2\n",
              "구로구    697.858907   49927.368378  13478    2\n",
              "강북구    674.652714   49009.045639   5653    2\n",
              "중랑구    657.136930   45164.718913   8243    2\n",
              "금천구    634.319841   43204.616049   4860    2\n",
              "도봉구    601.020968   41282.194681  11732    2"
            ]
          },
          "metadata": {
            "tags": []
          },
          "execution_count": 8
        }
      ]
    },
    {
      "cell_type": "code",
      "metadata": {
        "id": "dWkkCp-xcmlT"
      },
      "source": [
        "gu_mapper = {gu:k for gu,k in zip(구별랭킹.index,구별랭킹.구별K)}\n",
        "df['구별K'] = df['지역코드'].copy()\n",
        "df['구별K'] = df['구별K'].replace(gu_mapper)"
      ],
      "execution_count": 9,
      "outputs": []
    },
    {
      "cell_type": "markdown",
      "metadata": {
        "id": "tcsXJeN1RTDy"
      },
      "source": [
        "## 1.2 Prepare datasets"
      ]
    },
    {
      "cell_type": "code",
      "metadata": {
        "id": "Jq6XGXQMcp1L"
      },
      "source": [
        "dataset = df.drop(columns=['거래횟수','평당가','지번','-\\xa0집세'])\n",
        "dataset.columns = ['지역코드', '법정동', '아파트', '전용면적', '층', '건축년도', '거래금액', '거래년도', '거래월일', '세대',\n",
        "       '인구', '세대당인구', '자동차등록', '인구이동(전입지별)', '외국인증권투자', '국고채 3년(평균)',\n",
        "       '국고채 5년(평균)', '국고채 10년(평균)', '회사채 3년(평균)', 'CD 91물(평균)', '콜금리(1일물,평균)',\n",
        "       '소비자물가', '- 농축수산물', '- 공업제품', '- 공공서비스', '- 개인서비스', '근원물가', '출생아수(명)',\n",
        "       '사망자수(명)', '혼인건수(건)', '이혼건수(건)', 'KS11', 'KQ11', 'DJI', 'IXIC', 'VIX',\n",
        "       'CSI300', 'SSEC', 'DE30', 'FCHI', 'NG', 'GC', 'HG', 'CL', '구별K']\n",
        "\n",
        "dataset = dataset.drop(columns=['세대당인구','국고채 3년(평균)','국고채 5년(평균)','- 개인서비스','콜금리(1일물,평균)','CSI300','HG'])"
      ],
      "execution_count": 10,
      "outputs": []
    },
    {
      "cell_type": "code",
      "metadata": {
        "colab": {
          "base_uri": "https://localhost:8080/"
        },
        "id": "Cwk4W7ak22h8",
        "outputId": "b64de4b7-4db9-496a-cb34-32654d1e3f32"
      },
      "source": [
        "def engine(xxx):\n",
        "  xxx['KRX'] = xxx.KS11 + xxx.KQ11\n",
        "  xxx = xxx.drop(columns=['KS11','KQ11'])\n",
        "  return xxx\n",
        "\n",
        "DF_1 = engine(dataset.copy())\n",
        "DF_1.shape"
      ],
      "execution_count": 11,
      "outputs": [
        {
          "output_type": "execute_result",
          "data": {
            "text/plain": [
              "(244456, 37)"
            ]
          },
          "metadata": {
            "tags": []
          },
          "execution_count": 11
        }
      ]
    },
    {
      "cell_type": "code",
      "metadata": {
        "id": "shqnaglHQ3NC"
      },
      "source": [
        "dataset = DF_1"
      ],
      "execution_count": 12,
      "outputs": []
    },
    {
      "cell_type": "markdown",
      "metadata": {
        "id": "52HgWUJNRa6a"
      },
      "source": [
        "## 1.3 Train, Val, Test split"
      ]
    },
    {
      "cell_type": "code",
      "metadata": {
        "colab": {
          "base_uri": "https://localhost:8080/"
        },
        "id": "6vmGcNY61jsi",
        "outputId": "b56a5b82-360d-474d-cb8e-b87d006aae13"
      },
      "source": [
        "target='거래금액'\n",
        "train = dataset[(dataset.거래월일 != '2021-01') | (dataset.거래월일 != '2021-02')].copy()\n",
        "test = dataset[(dataset.거래월일 == '2021-01') | (dataset.거래월일 == '2021-02')].copy()\n",
        "print(train.shape,test.shape)\n",
        "print(test.거래월일.value_counts())"
      ],
      "execution_count": 13,
      "outputs": [
        {
          "output_type": "stream",
          "text": [
            "(244456, 37) (5248, 37)\n",
            "2021-01    4826\n",
            "2021-02     422\n",
            "Name: 거래월일, dtype: int64\n"
          ],
          "name": "stdout"
        }
      ]
    },
    {
      "cell_type": "code",
      "metadata": {
        "id": "d7mtnKLScuGE"
      },
      "source": [
        "X = train.drop(columns=target)\n",
        "y = train[target]\n",
        "X_test = test.drop(columns=target)\n",
        "y_test = test[target]\n",
        "from sklearn.model_selection import train_test_split\n",
        "X_train, X_val, y_train, y_val = train_test_split(X, y, test_size=0.2, random_state=1)"
      ],
      "execution_count": 14,
      "outputs": []
    },
    {
      "cell_type": "markdown",
      "metadata": {
        "id": "7KhS_sBJczIW"
      },
      "source": [
        "# 2. Baseline"
      ]
    },
    {
      "cell_type": "code",
      "metadata": {
        "id": "MmKRDCkJcybu"
      },
      "source": [
        "from sklearn.metrics import mean_absolute_error\n",
        "from sklearn.pipeline import make_pipeline\n",
        "from category_encoders import OrdinalEncoder"
      ],
      "execution_count": 17,
      "outputs": []
    },
    {
      "cell_type": "markdown",
      "metadata": {
        "id": "CV4D544BTEli"
      },
      "source": [
        "## 2.1 Linear"
      ]
    },
    {
      "cell_type": "code",
      "metadata": {
        "colab": {
          "base_uri": "https://localhost:8080/"
        },
        "id": "CpY2Wd8YTHRo",
        "outputId": "de341996-7a77-4e66-dcef-01507f3e911e"
      },
      "source": [
        "from sklearn.linear_model import LinearRegression\n",
        "pipe = make_pipeline(\n",
        "    OrdinalEncoder(), \n",
        "    LinearRegression()\n",
        ")\n",
        "\n",
        "pipe.fit(X_train, y_train)\n",
        "print('훈련 R^2: ', pipe.score(X_train, y_train))\n",
        "print('검증 R^2: ', pipe.score(X_val, y_val))\n",
        "print('TEST R^2: ', pipe.score(X_test, y_test))\n",
        "\n",
        "print('\\n훈련 MAE: ', mean_absolute_error(pipe.predict(X_train), y_train))\n",
        "print('검증 MAE: ', mean_absolute_error(pipe.predict(X_val), y_val))\n",
        "print('TEST MAE: ', mean_absolute_error(pipe.predict(X_test), y_test))"
      ],
      "execution_count": 13,
      "outputs": [
        {
          "output_type": "stream",
          "text": [
            "훈련 R^2:  0.43149993942584997\n",
            "검증 R^2:  0.4349519916586425\n",
            "TEST R^2:  0.4540935651652793\n",
            "\n",
            "훈련 MAE:  27874.76841577561\n",
            "검증 MAE:  27972.489567581953\n",
            "TEST MAE:  32607.446603240183\n"
          ],
          "name": "stdout"
        }
      ]
    },
    {
      "cell_type": "markdown",
      "metadata": {
        "id": "io3rrcmY_5Ke"
      },
      "source": [
        "## 2.1 RandomForest"
      ]
    },
    {
      "cell_type": "code",
      "metadata": {
        "colab": {
          "base_uri": "https://localhost:8080/"
        },
        "id": "OwOV5P4jc7Xk",
        "outputId": "83a5450e-78bd-43ef-8b41-e904760d1643"
      },
      "source": [
        "from sklearn.ensemble import RandomForestRegressor\n",
        "pipe = make_pipeline(\n",
        "    OrdinalEncoder(), \n",
        "    RandomForestRegressor(n_jobs=-1)\n",
        ")\n",
        "\n",
        "pipe.fit(X_train, y_train)\n",
        "print('훈련 R^2: ', pipe.score(X_train, y_train))\n",
        "print('검증 R^2: ', pipe.score(X_val, y_val))\n",
        "print('TEST R^2: ', pipe.score(X_test, y_test))\n",
        "\n",
        "print('\\n훈련 MAE: ', mean_absolute_error(pipe.predict(X_train), y_train))\n",
        "print('검증 MAE: ', mean_absolute_error(pipe.predict(X_val), y_val))\n",
        "print('TEST MAE: ', mean_absolute_error(pipe.predict(X_test), y_test))"
      ],
      "execution_count": 14,
      "outputs": [
        {
          "output_type": "stream",
          "text": [
            "훈련 R^2:  0.9960248359625963\n",
            "검증 R^2:  0.9706950473155046\n",
            "TEST R^2:  0.9864338643789887\n",
            "\n",
            "훈련 MAE:  1811.6328141142526\n",
            "검증 MAE:  4822.040167983378\n",
            "TEST MAE:  3836.8820698641057\n"
          ],
          "name": "stdout"
        }
      ]
    },
    {
      "cell_type": "markdown",
      "metadata": {
        "id": "M3_6F_wQ_zPr"
      },
      "source": [
        "## 2.2 XGBoost"
      ]
    },
    {
      "cell_type": "code",
      "metadata": {
        "colab": {
          "base_uri": "https://localhost:8080/"
        },
        "id": "R8TOKYbfc0Dm",
        "outputId": "95ff4f41-f5a1-443c-8910-ca6761bc1ae0"
      },
      "source": [
        "from xgboost.sklearn import XGBModel\n",
        "from xgboost import XGBRegressor\n",
        "pipe = make_pipeline(\n",
        "    OrdinalEncoder(), \n",
        "    XGBRegressor(n_jobs=-1)\n",
        ")\n",
        "\n",
        "pipe.fit(X_train, y_train)\n",
        "print('훈련 R^2: ', pipe.score(X_train, y_train))\n",
        "print('검증 R^2: ', pipe.score(X_val, y_val))\n",
        "print('TEST R^2: ', pipe.score(X_test, y_test))\n",
        "\n",
        "print('\\n훈련 MAE: ', mean_absolute_error(pipe.predict(X_train), y_train))\n",
        "print('검증 MAE: ', mean_absolute_error(pipe.predict(X_val), y_val))\n",
        "print('TEST MAE: ', mean_absolute_error(pipe.predict(X_test), y_test))"
      ],
      "execution_count": 16,
      "outputs": [
        {
          "output_type": "stream",
          "text": [
            "[08:28:08] WARNING: /workspace/src/objective/regression_obj.cu:152: reg:linear is now deprecated in favor of reg:squarederror.\n",
            "훈련 R^2:  0.8503150891645357\n",
            "검증 R^2:  0.8468487199042718\n",
            "TEST R^2:  0.8168025844056047\n",
            "\n",
            "훈련 MAE:  14304.449106635033\n",
            "검증 MAE:  14447.02974433746\n",
            "TEST MAE:  18801.782822492645\n"
          ],
          "name": "stdout"
        }
      ]
    },
    {
      "cell_type": "markdown",
      "metadata": {
        "id": "UAS1t-xs_2pC"
      },
      "source": [
        "## 2.3 LGBM"
      ]
    },
    {
      "cell_type": "code",
      "metadata": {
        "colab": {
          "base_uri": "https://localhost:8080/"
        },
        "id": "5knFwDRqc2zX",
        "outputId": "4f5faec4-ed66-4190-a1ba-f9e9f21beeec"
      },
      "source": [
        "from lightgbm import LGBMRegressor\n",
        "pipe = make_pipeline(\n",
        "    OrdinalEncoder(), \n",
        "    LGBMRegressor(n_jobs=-1)\n",
        ")\n",
        "\n",
        "pipe.fit(X_train, y_train)\n",
        "print('훈련 R^2: ', pipe.score(X_train, y_train))\n",
        "print('검증 R^2: ', pipe.score(X_val, y_val))\n",
        "print('TEST R^2: ', pipe.score(X_test, y_test))\n",
        "\n",
        "print('\\n훈련 MAE: ', mean_absolute_error(pipe.predict(X_train), y_train))\n",
        "print('검증 MAE: ', mean_absolute_error(pipe.predict(X_val), y_val))\n",
        "print('TEST MAE: ', mean_absolute_error(pipe.predict(X_test), y_test))"
      ],
      "execution_count": 17,
      "outputs": [
        {
          "output_type": "stream",
          "text": [
            "훈련 R^2:  0.9327245678096869\n",
            "검증 R^2:  0.9275540035903953\n",
            "TEST R^2:  0.9153730057689193\n",
            "\n",
            "훈련 MAE:  9757.644952751476\n",
            "검증 MAE:  9942.288111719909\n",
            "TEST MAE:  13410.272976704773\n"
          ],
          "name": "stdout"
        }
      ]
    },
    {
      "cell_type": "markdown",
      "metadata": {
        "id": "65X1-x_VR9q5"
      },
      "source": [
        "# 3. Cross Validation"
      ]
    },
    {
      "cell_type": "code",
      "metadata": {
        "id": "QSFaXFUcSyyg"
      },
      "source": [
        "encoder = OrdinalEncoder()\n",
        "X_train_encoded = encoder.fit_transform(X_train)\n",
        "X_val_encoded = encoder.transform(X_val)\n",
        "X_test_encoded = encoder.transform(X_test)\n",
        "X_encoded = encoder.transform(X)"
      ],
      "execution_count": 18,
      "outputs": []
    },
    {
      "cell_type": "markdown",
      "metadata": {
        "id": "EPEMXIbqSyyf"
      },
      "source": [
        "## 3.1 RandomizedSearchCV w/ RF"
      ]
    },
    {
      "cell_type": "code",
      "metadata": {
        "id": "hvLGOHJEyLta"
      },
      "source": [
        "from scipy.stats import randint as sp_randint\n",
        "from scipy.stats import uniform as sp_uniform\n",
        "from sklearn.model_selection import RandomizedSearchCV\n",
        "from sklearn.ensemble import RandomForestRegressor\n",
        "param_test ={'max_depth':[None,30,50,100,150,300],\n",
        "             'n_esstimators':[100,300,500]\n",
        "             }\n",
        "rf = RandomForestRegressor(criterion='mse', \n",
        "                          min_samples_leaf=1, min_weight_fraction_leaf=0.0, max_features='auto',\n",
        "                          max_leaf_nodes=None, min_impurity_decrease=0.0, min_impurity_split=None,\n",
        "                          random_state=42, verbose=3, warm_start=False,\n",
        "                          n_jobs=39,\n",
        "                          ccp_alpha=0.0, max_samples=None)\n",
        "\n",
        "\n",
        "rs = RandomizedSearchCV(\n",
        "    estimator=rf, \n",
        "    param_distributions=param_test, \n",
        "    n_iter=10, \n",
        "    scoring='neg_mean_absolute_error',\n",
        "    cv=3,\n",
        "    random_state=42,\n",
        "    verbose=3)\n",
        "\n",
        "rs.fit(X_encoded, y)"
      ],
      "execution_count": null,
      "outputs": []
    },
    {
      "cell_type": "code",
      "metadata": {
        "id": "LphyB98jSyyj"
      },
      "source": [
        "crossvalidation = pd.DataFrame(rs.cv_results_)\n",
        "crossvalidation.to_csv('/content/drive/MyDrive/HOUSE_PRICE_PREDICTION/CV/cv_result_randomforest.csv')"
      ],
      "execution_count": null,
      "outputs": []
    },
    {
      "cell_type": "markdown",
      "metadata": {
        "id": "wHNLeBIuSxBN"
      },
      "source": [
        "## 3.2 RandomizedSearchCV w/ XGBoost\n"
      ]
    },
    {
      "cell_type": "code",
      "metadata": {
        "id": "e6CzDuyz3xUK"
      },
      "source": [
        "from scipy.stats import randint as sp_randint\n",
        "from scipy.stats import uniform as sp_uniform\n",
        "from sklearn.model_selection import RandomizedSearchCV\n",
        "from xgboost import XGBRegressor\n",
        "\n",
        "fit_params={\"early_stopping_rounds\":50, \n",
        "            \"eval_metric\" : 'mae', \n",
        "            \"eval_set\" : [(X_train_encoded, y_train),\n",
        "                          (X_val_encoded, y_val)],\n",
        "            'verbose': 100}\n",
        "\n",
        "param_test ={'max_depth':[-1,-5,10,15,30,50,100,150],\n",
        "             'reg_alpha': [0, 1, 2, 5, 10, 50, 100],\n",
        "             'reg_lambda': [0, 1, 5,20, 50, 100]}\n",
        "xg = XGBRegressor(random_state=42,n_jobs=-1)\n",
        "\n",
        "\n",
        "rs = RandomizedSearchCV(\n",
        "    estimator=xg, \n",
        "    param_distributions=param_test, \n",
        "    n_iter=2,\n",
        "    scoring='neg_mean_absolute_error',\n",
        "    cv=3,\n",
        "    random_state=1,\n",
        "    verbose=3)\n",
        "\n",
        "\n",
        "rs.fit(X_encoded, y, **fit_params)"
      ],
      "execution_count": null,
      "outputs": []
    },
    {
      "cell_type": "code",
      "metadata": {
        "id": "SrmsiV9nz3Cp"
      },
      "source": [
        "crossvalidation = pd.DataFrame(rs.cv_results_)\n",
        "crossvalidation.to_csv('/content/drive/MyDrive/HOUSE_PRICE_PREDICTION/CV/cv_result_xgboost.csv')"
      ],
      "execution_count": null,
      "outputs": []
    },
    {
      "cell_type": "markdown",
      "metadata": {
        "id": "uhQIgX6TdCRm"
      },
      "source": [
        "## 3.3 RandomizedSearchCV w/ LGBM"
      ]
    },
    {
      "cell_type": "code",
      "metadata": {
        "id": "RKo_rh7PdKCh"
      },
      "source": [
        "from scipy.stats import randint as sp_randint\n",
        "from scipy.stats import uniform as sp_uniform\n",
        "from sklearn.model_selection import RandomizedSearchCV\n",
        "fit_params={\"early_stopping_rounds\":50, \n",
        "            \"eval_metric\" : 'mae', \n",
        "            \"eval_set\" : [(X_train_encoded, y_train),\n",
        "                          (X_val_encoded, y_val)],\n",
        "            'verbose': 100}\n",
        "\n",
        "param_test ={'max_depth':[-1,-5,5,7,9,11,13,15,17,19,21,23,30,50,100,150],\n",
        "             'reg_alpha': [0, 1, 2, 5, 10, 50, 100],\n",
        "             'reg_lambda': [0, 1, 5,20, 50, 100],\n",
        "             'subsample':[None,0.7]}\n",
        "lgbm = LGBMRegressor(random_state=42,learning_rate=0.1, n_estimators=300000, n_jobs=-1)\n",
        "\n",
        "\n",
        "rs = RandomizedSearchCV(\n",
        "    estimator=lgbm, \n",
        "    param_distributions=param_test, \n",
        "    n_iter=100,\n",
        "    scoring='neg_mean_absolute_error',\n",
        "    cv=3,\n",
        "    random_state=1,\n",
        "    verbose=3)\n",
        "\n",
        "\n",
        "rs.fit(X_train_encoded, y_train, **fit_params)"
      ],
      "execution_count": null,
      "outputs": []
    },
    {
      "cell_type": "code",
      "metadata": {
        "id": "WtYPrv_Ajc6i"
      },
      "source": [
        "crossvalidation = pd.DataFrame(rs.cv_results_)\n",
        "crossvalidation.to_csv('/content/drive/MyDrive/HOUSE_PRICE_PREDICTION/CV/cv_result_lgbm.csv')"
      ],
      "execution_count": null,
      "outputs": []
    },
    {
      "cell_type": "markdown",
      "metadata": {
        "id": "J4CrmgD7vFrr"
      },
      "source": [
        "# 4. Training w/ best_params"
      ]
    },
    {
      "cell_type": "markdown",
      "metadata": {
        "id": "XzLPEk246vns"
      },
      "source": [
        "## 4.1 RandomForest"
      ]
    },
    {
      "cell_type": "code",
      "metadata": {
        "colab": {
          "base_uri": "https://localhost:8080/"
        },
        "id": "pQzDF8Nw6xvp",
        "outputId": "7d58a6f3-d483-4d5f-d8eb-61274a34ca35"
      },
      "source": [
        "from sklearn.ensemble import RandomForestRegressor\n",
        "rf = RandomForestRegressor(criterion='mse', max_depth=50, n_estimators=300,\n",
        "                          min_samples_leaf=1, min_weight_fraction_leaf=0.0, max_features='auto',\n",
        "                          max_leaf_nodes=None, min_impurity_decrease=0.0, min_impurity_split=None,\n",
        "                          random_state=42, verbose=1, warm_start=False, n_jobs=-1,\n",
        "                          ccp_alpha=0.0, max_samples=None)\n",
        "\n",
        "rf.fit(X_train_encoded, y_train)\n",
        "\n",
        "print('훈련 R^2: ', rf.score(X_train_encoded, y_train))\n",
        "print('검증 R^2: ', rf.score(X_val_encoded, y_val))\n",
        "print('TEST R^2: ', rf.score(X_test_encoded, y_test))\n",
        "\n",
        "print('\\n훈련 MAE: ', mean_absolute_error(rf.predict(X_train_encoded), y_train))\n",
        "print('검증 MAE: ', mean_absolute_error(rf.predict(X_val_encoded), y_val))\n",
        "print('TEST MAE: ', mean_absolute_error(rf.predict(X_test_encoded), y_test))"
      ],
      "execution_count": 61,
      "outputs": [
        {
          "output_type": "stream",
          "text": [
            "[Parallel(n_jobs=-1)]: Using backend ThreadingBackend with 40 concurrent workers.\n",
            "[Parallel(n_jobs=-1)]: Done 120 tasks      | elapsed:   21.3s\n",
            "[Parallel(n_jobs=-1)]: Done 300 out of 300 | elapsed:   46.4s finished\n",
            "[Parallel(n_jobs=40)]: Using backend ThreadingBackend with 40 concurrent workers.\n",
            "[Parallel(n_jobs=40)]: Done 120 tasks      | elapsed:    0.7s\n",
            "[Parallel(n_jobs=40)]: Done 300 out of 300 | elapsed:    1.6s finished\n",
            "[Parallel(n_jobs=40)]: Using backend ThreadingBackend with 40 concurrent workers.\n"
          ],
          "name": "stderr"
        },
        {
          "output_type": "stream",
          "text": [
            "훈련 R^2:  0.9961402508698601\n"
          ],
          "name": "stdout"
        },
        {
          "output_type": "stream",
          "text": [
            "[Parallel(n_jobs=40)]: Done 120 tasks      | elapsed:    0.2s\n",
            "[Parallel(n_jobs=40)]: Done 300 out of 300 | elapsed:    0.4s finished\n",
            "[Parallel(n_jobs=40)]: Using backend ThreadingBackend with 40 concurrent workers.\n",
            "[Parallel(n_jobs=40)]: Done 120 tasks      | elapsed:    0.1s\n"
          ],
          "name": "stderr"
        },
        {
          "output_type": "stream",
          "text": [
            "검증 R^2:  0.9707732874824994\n"
          ],
          "name": "stdout"
        },
        {
          "output_type": "stream",
          "text": [
            "[Parallel(n_jobs=40)]: Done 300 out of 300 | elapsed:    0.1s finished\n",
            "[Parallel(n_jobs=40)]: Using backend ThreadingBackend with 40 concurrent workers.\n"
          ],
          "name": "stderr"
        },
        {
          "output_type": "stream",
          "text": [
            "TEST R^2:  0.9862389507700263\n"
          ],
          "name": "stdout"
        },
        {
          "output_type": "stream",
          "text": [
            "[Parallel(n_jobs=40)]: Done 120 tasks      | elapsed:    0.6s\n",
            "[Parallel(n_jobs=40)]: Done 300 out of 300 | elapsed:    1.5s finished\n",
            "[Parallel(n_jobs=40)]: Using backend ThreadingBackend with 40 concurrent workers.\n"
          ],
          "name": "stderr"
        },
        {
          "output_type": "stream",
          "text": [
            "\n",
            "훈련 MAE:  1785.6016348292383\n"
          ],
          "name": "stdout"
        },
        {
          "output_type": "stream",
          "text": [
            "[Parallel(n_jobs=40)]: Done 120 tasks      | elapsed:    0.2s\n"
          ],
          "name": "stderr"
        },
        {
          "output_type": "stream",
          "text": [
            "검증 MAE:  4809.630988698421\n",
            "TEST MAE:  3820.3421467066905\n"
          ],
          "name": "stdout"
        },
        {
          "output_type": "stream",
          "text": [
            "[Parallel(n_jobs=40)]: Done 300 out of 300 | elapsed:    0.4s finished\n",
            "[Parallel(n_jobs=40)]: Using backend ThreadingBackend with 40 concurrent workers.\n",
            "[Parallel(n_jobs=40)]: Done 120 tasks      | elapsed:    0.1s\n",
            "[Parallel(n_jobs=40)]: Done 300 out of 300 | elapsed:    0.1s finished\n"
          ],
          "name": "stderr"
        }
      ]
    },
    {
      "cell_type": "code",
      "metadata": {
        "id": "5OSmM1Se6-VM"
      },
      "source": [
        "import pickle\n",
        "filename = f'/content/drive/MyDrive/HOUSE_PRICE_PREDICTION/Model/randomforest.sav'\n",
        "pickle.dump(rf, open(filename, 'wb'))"
      ],
      "execution_count": 62,
      "outputs": []
    },
    {
      "cell_type": "markdown",
      "metadata": {
        "id": "NFPgNuds6Gwl"
      },
      "source": [
        "## 4.2 XGBoost"
      ]
    },
    {
      "cell_type": "code",
      "metadata": {
        "colab": {
          "base_uri": "https://localhost:8080/"
        },
        "id": "jeK-4-MU2p3f",
        "outputId": "781f28fd-06d8-4a08-e36c-2f58b7b073f1"
      },
      "source": [
        "from xgboost import XGBRegressor\n",
        "xgboost = XGBRegressor(learning_rate=0.01, max_depth=15, n_estimators=300000, \n",
        "                         num_leaves=250, reg_alpha=1, reg_lambda=1, subsample=0.7,\n",
        "                         random_state=42, n_jobs=-1)\n",
        "\n",
        "fit_params={\"early_stopping_rounds\":50, \n",
        "            \"eval_metric\" : 'mae', \n",
        "            \"eval_set\" : [(X_train_encoded, y_train),\n",
        "                          (X_val_encoded, y_val)],\n",
        "            'verbose': 100}\n",
        "            \n",
        "xgboost.fit(X_train_encoded, y_train,**fit_params)\n",
        "print('훈련 R^2: ', xgboost.score(X_train_encoded, y_train))\n",
        "print('검증 R^2: ', xgboost.score(X_val_encoded, y_val))\n",
        "print('TEST R^2: ', xgboost.score(X_test_encoded, y_test))\n",
        "\n",
        "print('\\n훈련 MAE: ', mean_absolute_error(xgboost.predict(X_train_encoded), y_train))\n",
        "print('검증 MAE: ', mean_absolute_error(xgboost.predict(X_val_encoded), y_val))\n",
        "print('TEST MAE: ', mean_absolute_error(xgboost.predict(X_test_encoded), y_test))"
      ],
      "execution_count": 51,
      "outputs": [
        {
          "output_type": "stream",
          "text": [
            "[09:17:07] WARNING: /workspace/src/objective/regression_obj.cu:152: reg:linear is now deprecated in favor of reg:squarederror.\n",
            "[0]\tvalidation_0-mae:77137\tvalidation_1-mae:77180.1\n",
            "Multiple eval metrics have been passed: 'validation_1-mae' will be used for early stopping.\n",
            "\n",
            "Will train until validation_1-mae hasn't improved in 50 rounds.\n",
            "[100]\tvalidation_0-mae:28753\tvalidation_1-mae:28852.9\n",
            "[200]\tvalidation_0-mae:11366.8\tvalidation_1-mae:12037.7\n",
            "[300]\tvalidation_0-mae:5558.2\tvalidation_1-mae:6837.95\n",
            "[400]\tvalidation_0-mae:3674.38\tvalidation_1-mae:5360.9\n",
            "[500]\tvalidation_0-mae:2954.27\tvalidation_1-mae:4867.79\n",
            "[600]\tvalidation_0-mae:2595.45\tvalidation_1-mae:4639.38\n",
            "[700]\tvalidation_0-mae:2368.31\tvalidation_1-mae:4499.74\n",
            "[800]\tvalidation_0-mae:2215.67\tvalidation_1-mae:4413.76\n",
            "[900]\tvalidation_0-mae:2082.68\tvalidation_1-mae:4340\n",
            "[1000]\tvalidation_0-mae:1959.05\tvalidation_1-mae:4275.85\n",
            "[1100]\tvalidation_0-mae:1861.48\tvalidation_1-mae:4231.21\n",
            "[1200]\tvalidation_0-mae:1769.46\tvalidation_1-mae:4192.48\n",
            "[1300]\tvalidation_0-mae:1691.72\tvalidation_1-mae:4162.15\n",
            "[1400]\tvalidation_0-mae:1617.09\tvalidation_1-mae:4134.38\n",
            "[1500]\tvalidation_0-mae:1550.47\tvalidation_1-mae:4113.17\n",
            "[1600]\tvalidation_0-mae:1491.57\tvalidation_1-mae:4095.74\n",
            "[1700]\tvalidation_0-mae:1435.52\tvalidation_1-mae:4080.61\n",
            "[1800]\tvalidation_0-mae:1381.41\tvalidation_1-mae:4067.9\n",
            "[1900]\tvalidation_0-mae:1327.43\tvalidation_1-mae:4056.75\n",
            "[2000]\tvalidation_0-mae:1280.31\tvalidation_1-mae:4048.41\n",
            "[2100]\tvalidation_0-mae:1236.31\tvalidation_1-mae:4040.09\n",
            "[2200]\tvalidation_0-mae:1194.7\tvalidation_1-mae:4033.57\n",
            "[2300]\tvalidation_0-mae:1155.14\tvalidation_1-mae:4028.08\n",
            "[2400]\tvalidation_0-mae:1121.24\tvalidation_1-mae:4024.19\n",
            "[2500]\tvalidation_0-mae:1085.29\tvalidation_1-mae:4020.75\n",
            "[2600]\tvalidation_0-mae:1053.08\tvalidation_1-mae:4017.65\n",
            "[2700]\tvalidation_0-mae:1021.35\tvalidation_1-mae:4014.67\n",
            "[2800]\tvalidation_0-mae:991.406\tvalidation_1-mae:4012.7\n",
            "[2900]\tvalidation_0-mae:965.57\tvalidation_1-mae:4010.97\n",
            "[3000]\tvalidation_0-mae:938.06\tvalidation_1-mae:4008.72\n",
            "[3100]\tvalidation_0-mae:911.512\tvalidation_1-mae:4007.62\n",
            "[3200]\tvalidation_0-mae:888.256\tvalidation_1-mae:4006.6\n",
            "[3300]\tvalidation_0-mae:865.481\tvalidation_1-mae:4005.59\n",
            "[3400]\tvalidation_0-mae:844.445\tvalidation_1-mae:4004.96\n",
            "[3500]\tvalidation_0-mae:824.473\tvalidation_1-mae:4004.49\n",
            "[3600]\tvalidation_0-mae:805.606\tvalidation_1-mae:4004.08\n",
            "[3700]\tvalidation_0-mae:788.133\tvalidation_1-mae:4003.88\n",
            "[3800]\tvalidation_0-mae:770.434\tvalidation_1-mae:4003.38\n",
            "[3900]\tvalidation_0-mae:754.801\tvalidation_1-mae:4003.2\n",
            "Stopping. Best iteration:\n",
            "[3932]\tvalidation_0-mae:749.826\tvalidation_1-mae:4002.95\n",
            "\n",
            "훈련 R^2:  0.9994416968360545\n",
            "검증 R^2:  0.9785327723020034\n",
            "TEST R^2:  0.9914577566163508\n",
            "\n",
            "훈련 MAE:  749.8265057675533\n",
            "검증 MAE:  4002.948581823202\n",
            "TEST MAE:  1901.636602913461\n"
          ],
          "name": "stdout"
        }
      ]
    },
    {
      "cell_type": "code",
      "metadata": {
        "id": "GOh_IWW55q-P"
      },
      "source": [
        "import pickle\n",
        "filename = f'/content/drive/MyDrive/HOUSE_PRICE_PREDICTION/Model/xgboost.sav'\n",
        "pickle.dump(xgboost, open(filename, 'wb'))"
      ],
      "execution_count": 52,
      "outputs": []
    },
    {
      "cell_type": "markdown",
      "metadata": {
        "id": "qXc2BpEkwz3Z"
      },
      "source": [
        "## 4.3 LGBM"
      ]
    },
    {
      "cell_type": "code",
      "metadata": {
        "colab": {
          "base_uri": "https://localhost:8080/"
        },
        "id": "zOIve8OovZ8w",
        "outputId": "76142168-f78e-4d30-bc8c-a603c0c66817"
      },
      "source": [
        "from lightgbm import LGBMRegressor\n",
        "lightgbm = LGBMRegressor(learning_rate=0.01, max_depth=15, n_estimators=300000, \n",
        "                         num_leaves=250, reg_alpha=1, reg_lambda=1, subsample=0.7,\n",
        "                         random_state=42, n_jobs=-1)\n",
        "\n",
        "fit_params={\"early_stopping_rounds\":50, \n",
        "            \"eval_metric\" : 'mae', \n",
        "            \"eval_set\" : [(X_train_encoded, y_train),\n",
        "                          (X_val_encoded, y_val)],\n",
        "            'verbose': 100}\n",
        "            \n",
        "lightgbm.fit(X_train_encoded, y_train,**fit_params)\n",
        "print('훈련 R^2: ', lightgbm.score(X_train_encoded, y_train))\n",
        "print('검증 R^2: ', lightgbm.score(X_val_encoded, y_val))\n",
        "print('TEST R^2: ', lightgbm.score(X_test_encoded, y_test))\n",
        "\n",
        "print('\\n훈련 MAE: ', mean_absolute_error(lightgbm.predict(X_train_encoded), y_train))\n",
        "print('검증 MAE: ', mean_absolute_error(lightgbm.predict(X_val_encoded), y_val))\n",
        "print('TEST MAE: ', mean_absolute_error(lightgbm.predict(X_test_encoded), y_test))"
      ],
      "execution_count": 54,
      "outputs": [
        {
          "output_type": "stream",
          "text": [
            "Training until validation scores don't improve for 50 rounds.\n",
            "[100]\ttraining's l2: 6.83816e+08\ttraining's l1: 18421.9\tvalid_1's l2: 7.0786e+08\tvalid_1's l1: 18592.1\n",
            "[200]\ttraining's l2: 2.7973e+08\ttraining's l1: 11899.8\tvalid_1's l2: 3.04941e+08\tvalid_1's l1: 12179.7\n",
            "[300]\ttraining's l2: 1.77599e+08\ttraining's l1: 9358.93\tvalid_1's l2: 2.05706e+08\tvalid_1's l1: 9727.37\n",
            "[400]\ttraining's l2: 1.3549e+08\ttraining's l1: 8018.28\tvalid_1's l2: 1.65336e+08\tvalid_1's l1: 8429.56\n",
            "[500]\ttraining's l2: 1.14928e+08\ttraining's l1: 7298.94\tvalid_1's l2: 1.46746e+08\tvalid_1's l1: 7747.67\n",
            "[600]\ttraining's l2: 1.00203e+08\ttraining's l1: 6735.05\tvalid_1's l2: 1.33095e+08\tvalid_1's l1: 7213.18\n",
            "[700]\ttraining's l2: 8.94571e+07\ttraining's l1: 6317.52\tvalid_1's l2: 1.23456e+08\tvalid_1's l1: 6827.02\n",
            "[800]\ttraining's l2: 8.11772e+07\ttraining's l1: 5987\tvalid_1's l2: 1.15996e+08\tvalid_1's l1: 6524.82\n",
            "[900]\ttraining's l2: 7.43908e+07\ttraining's l1: 5712.75\tvalid_1's l2: 1.09922e+08\tvalid_1's l1: 6276.69\n",
            "[1000]\ttraining's l2: 6.90787e+07\ttraining's l1: 5487.37\tvalid_1's l2: 1.05324e+08\tvalid_1's l1: 6077.96\n",
            "[1100]\ttraining's l2: 6.49395e+07\ttraining's l1: 5308.22\tvalid_1's l2: 1.01996e+08\tvalid_1's l1: 5925.37\n",
            "[1200]\ttraining's l2: 6.14418e+07\ttraining's l1: 5149.29\tvalid_1's l2: 9.9284e+07\tvalid_1's l1: 5793.59\n",
            "[1300]\ttraining's l2: 5.8456e+07\ttraining's l1: 5011.07\tvalid_1's l2: 9.70695e+07\tvalid_1's l1: 5681.8\n",
            "[1400]\ttraining's l2: 5.58185e+07\ttraining's l1: 4884.8\tvalid_1's l2: 9.50034e+07\tvalid_1's l1: 5578.69\n",
            "[1500]\ttraining's l2: 5.34461e+07\ttraining's l1: 4771.4\tvalid_1's l2: 9.32769e+07\tvalid_1's l1: 5489.44\n",
            "[1600]\ttraining's l2: 5.11334e+07\ttraining's l1: 4661.3\tvalid_1's l2: 9.16549e+07\tvalid_1's l1: 5405.45\n",
            "[1700]\ttraining's l2: 4.90951e+07\ttraining's l1: 4558.62\tvalid_1's l2: 9.01369e+07\tvalid_1's l1: 5326.44\n",
            "[1800]\ttraining's l2: 4.71977e+07\ttraining's l1: 4467.23\tvalid_1's l2: 8.87897e+07\tvalid_1's l1: 5260.81\n",
            "[1900]\ttraining's l2: 4.56072e+07\ttraining's l1: 4383.81\tvalid_1's l2: 8.76814e+07\tvalid_1's l1: 5199.75\n",
            "[2000]\ttraining's l2: 4.40281e+07\ttraining's l1: 4303.1\tvalid_1's l2: 8.6566e+07\tvalid_1's l1: 5141.74\n",
            "[2100]\ttraining's l2: 4.27102e+07\ttraining's l1: 4234.91\tvalid_1's l2: 8.57085e+07\tvalid_1's l1: 5094.57\n",
            "[2200]\ttraining's l2: 4.14152e+07\ttraining's l1: 4167.41\tvalid_1's l2: 8.47314e+07\tvalid_1's l1: 5046.45\n",
            "[2300]\ttraining's l2: 4.01531e+07\ttraining's l1: 4100.32\tvalid_1's l2: 8.38664e+07\tvalid_1's l1: 4999.64\n",
            "[2400]\ttraining's l2: 3.89885e+07\ttraining's l1: 4036.98\tvalid_1's l2: 8.31657e+07\tvalid_1's l1: 4957.04\n",
            "[2500]\ttraining's l2: 3.79007e+07\ttraining's l1: 3976.11\tvalid_1's l2: 8.24718e+07\tvalid_1's l1: 4916.67\n",
            "[2600]\ttraining's l2: 3.69173e+07\ttraining's l1: 3919.22\tvalid_1's l2: 8.18894e+07\tvalid_1's l1: 4879.33\n",
            "[2700]\ttraining's l2: 3.58933e+07\ttraining's l1: 3862.3\tvalid_1's l2: 8.12542e+07\tvalid_1's l1: 4842.72\n",
            "[2800]\ttraining's l2: 3.49562e+07\ttraining's l1: 3804.08\tvalid_1's l2: 8.05815e+07\tvalid_1's l1: 4802.34\n",
            "[2900]\ttraining's l2: 3.40766e+07\ttraining's l1: 3751.77\tvalid_1's l2: 8.00098e+07\tvalid_1's l1: 4769.24\n",
            "[3000]\ttraining's l2: 3.33045e+07\ttraining's l1: 3703.87\tvalid_1's l2: 7.9511e+07\tvalid_1's l1: 4739\n",
            "[3100]\ttraining's l2: 3.26272e+07\ttraining's l1: 3663.28\tvalid_1's l2: 7.91409e+07\tvalid_1's l1: 4715.08\n",
            "[3200]\ttraining's l2: 3.19624e+07\ttraining's l1: 3623.26\tvalid_1's l2: 7.88341e+07\tvalid_1's l1: 4693.16\n",
            "[3300]\ttraining's l2: 3.12541e+07\ttraining's l1: 3579.81\tvalid_1's l2: 7.84286e+07\tvalid_1's l1: 4666.57\n",
            "[3400]\ttraining's l2: 3.0609e+07\ttraining's l1: 3540.6\tvalid_1's l2: 7.80606e+07\tvalid_1's l1: 4644.2\n",
            "[3500]\ttraining's l2: 2.99969e+07\ttraining's l1: 3501.19\tvalid_1's l2: 7.76926e+07\tvalid_1's l1: 4621.4\n",
            "[3600]\ttraining's l2: 2.93576e+07\ttraining's l1: 3459.6\tvalid_1's l2: 7.72938e+07\tvalid_1's l1: 4596.06\n",
            "[3700]\ttraining's l2: 2.87778e+07\ttraining's l1: 3422.47\tvalid_1's l2: 7.6962e+07\tvalid_1's l1: 4574.47\n",
            "[3800]\ttraining's l2: 2.82663e+07\ttraining's l1: 3389.08\tvalid_1's l2: 7.66726e+07\tvalid_1's l1: 4556.7\n",
            "[3900]\ttraining's l2: 2.76919e+07\ttraining's l1: 3351.03\tvalid_1's l2: 7.63027e+07\tvalid_1's l1: 4533.75\n",
            "[4000]\ttraining's l2: 2.7217e+07\ttraining's l1: 3320.17\tvalid_1's l2: 7.60688e+07\tvalid_1's l1: 4518.94\n",
            "[4100]\ttraining's l2: 2.67069e+07\ttraining's l1: 3287.12\tvalid_1's l2: 7.57727e+07\tvalid_1's l1: 4500.8\n",
            "[4200]\ttraining's l2: 2.62398e+07\ttraining's l1: 3256.35\tvalid_1's l2: 7.55226e+07\tvalid_1's l1: 4484.47\n",
            "[4300]\ttraining's l2: 2.58123e+07\ttraining's l1: 3227.44\tvalid_1's l2: 7.52635e+07\tvalid_1's l1: 4469.16\n",
            "[4400]\ttraining's l2: 2.53726e+07\ttraining's l1: 3198.38\tvalid_1's l2: 7.50206e+07\tvalid_1's l1: 4454.32\n",
            "[4500]\ttraining's l2: 2.50101e+07\ttraining's l1: 3172.69\tvalid_1's l2: 7.48422e+07\tvalid_1's l1: 4441.35\n",
            "[4600]\ttraining's l2: 2.46449e+07\ttraining's l1: 3146.67\tvalid_1's l2: 7.46707e+07\tvalid_1's l1: 4428.66\n",
            "[4700]\ttraining's l2: 2.42517e+07\ttraining's l1: 3120.03\tvalid_1's l2: 7.44683e+07\tvalid_1's l1: 4415.44\n",
            "[4800]\ttraining's l2: 2.38708e+07\ttraining's l1: 3092.73\tvalid_1's l2: 7.42478e+07\tvalid_1's l1: 4400.69\n",
            "[4900]\ttraining's l2: 2.35575e+07\ttraining's l1: 3068.23\tvalid_1's l2: 7.41039e+07\tvalid_1's l1: 4388.42\n",
            "[5000]\ttraining's l2: 2.32097e+07\ttraining's l1: 3040.01\tvalid_1's l2: 7.38813e+07\tvalid_1's l1: 4371.05\n",
            "[5100]\ttraining's l2: 2.28947e+07\ttraining's l1: 3016.63\tvalid_1's l2: 7.37136e+07\tvalid_1's l1: 4358.83\n",
            "[5200]\ttraining's l2: 2.25842e+07\ttraining's l1: 2993.64\tvalid_1's l2: 7.35438e+07\tvalid_1's l1: 4348.05\n",
            "[5300]\ttraining's l2: 2.2233e+07\ttraining's l1: 2969.67\tvalid_1's l2: 7.33361e+07\tvalid_1's l1: 4336.54\n",
            "[5400]\ttraining's l2: 2.19212e+07\ttraining's l1: 2947.75\tvalid_1's l2: 7.32098e+07\tvalid_1's l1: 4327.45\n",
            "[5500]\ttraining's l2: 2.16251e+07\ttraining's l1: 2927.25\tvalid_1's l2: 7.31042e+07\tvalid_1's l1: 4318.89\n",
            "[5600]\ttraining's l2: 2.13382e+07\ttraining's l1: 2907.61\tvalid_1's l2: 7.29923e+07\tvalid_1's l1: 4311.27\n",
            "[5700]\ttraining's l2: 2.10612e+07\ttraining's l1: 2886.81\tvalid_1's l2: 7.28776e+07\tvalid_1's l1: 4302.37\n",
            "[5800]\ttraining's l2: 2.07709e+07\ttraining's l1: 2865.47\tvalid_1's l2: 7.27607e+07\tvalid_1's l1: 4292.93\n",
            "[5900]\ttraining's l2: 2.04977e+07\ttraining's l1: 2844.95\tvalid_1's l2: 7.26478e+07\tvalid_1's l1: 4283.94\n",
            "[6000]\ttraining's l2: 2.02509e+07\ttraining's l1: 2825.85\tvalid_1's l2: 7.25091e+07\tvalid_1's l1: 4274.34\n",
            "[6100]\ttraining's l2: 2.00056e+07\ttraining's l1: 2807.59\tvalid_1's l2: 7.23928e+07\tvalid_1's l1: 4266.05\n",
            "[6200]\ttraining's l2: 1.97509e+07\ttraining's l1: 2788.23\tvalid_1's l2: 7.22608e+07\tvalid_1's l1: 4257.99\n",
            "[6300]\ttraining's l2: 1.94991e+07\ttraining's l1: 2769.15\tvalid_1's l2: 7.2159e+07\tvalid_1's l1: 4250.05\n",
            "[6400]\ttraining's l2: 1.92319e+07\ttraining's l1: 2750.56\tvalid_1's l2: 7.20548e+07\tvalid_1's l1: 4243.28\n",
            "[6500]\ttraining's l2: 1.89927e+07\ttraining's l1: 2732.47\tvalid_1's l2: 7.19585e+07\tvalid_1's l1: 4235.58\n",
            "[6600]\ttraining's l2: 1.87647e+07\ttraining's l1: 2715.7\tvalid_1's l2: 7.18868e+07\tvalid_1's l1: 4229.23\n",
            "[6700]\ttraining's l2: 1.85323e+07\ttraining's l1: 2698.79\tvalid_1's l2: 7.17894e+07\tvalid_1's l1: 4222.64\n",
            "[6800]\ttraining's l2: 1.83075e+07\ttraining's l1: 2681.27\tvalid_1's l2: 7.16918e+07\tvalid_1's l1: 4215.46\n",
            "[6900]\ttraining's l2: 1.80696e+07\ttraining's l1: 2662.7\tvalid_1's l2: 7.15646e+07\tvalid_1's l1: 4207.47\n",
            "[7000]\ttraining's l2: 1.78456e+07\ttraining's l1: 2644.9\tvalid_1's l2: 7.14562e+07\tvalid_1's l1: 4199.97\n",
            "[7100]\ttraining's l2: 1.76203e+07\ttraining's l1: 2626.96\tvalid_1's l2: 7.13449e+07\tvalid_1's l1: 4191.89\n",
            "[7200]\ttraining's l2: 1.74272e+07\ttraining's l1: 2610.83\tvalid_1's l2: 7.12807e+07\tvalid_1's l1: 4185.63\n",
            "[7300]\ttraining's l2: 1.72389e+07\ttraining's l1: 2595.1\tvalid_1's l2: 7.12035e+07\tvalid_1's l1: 4179.07\n",
            "[7400]\ttraining's l2: 1.70135e+07\ttraining's l1: 2578.06\tvalid_1's l2: 7.11161e+07\tvalid_1's l1: 4173.02\n",
            "[7500]\ttraining's l2: 1.68233e+07\ttraining's l1: 2563.04\tvalid_1's l2: 7.10505e+07\tvalid_1's l1: 4168.39\n",
            "[7600]\ttraining's l2: 1.66634e+07\ttraining's l1: 2549.63\tvalid_1's l2: 7.10075e+07\tvalid_1's l1: 4164.33\n",
            "[7700]\ttraining's l2: 1.64643e+07\ttraining's l1: 2534.9\tvalid_1's l2: 7.09292e+07\tvalid_1's l1: 4159.33\n",
            "[7800]\ttraining's l2: 1.62812e+07\ttraining's l1: 2519.98\tvalid_1's l2: 7.08324e+07\tvalid_1's l1: 4153.76\n",
            "[7900]\ttraining's l2: 1.61192e+07\ttraining's l1: 2506.27\tvalid_1's l2: 7.0755e+07\tvalid_1's l1: 4148.65\n",
            "[8000]\ttraining's l2: 1.59502e+07\ttraining's l1: 2493.28\tvalid_1's l2: 7.07336e+07\tvalid_1's l1: 4145.01\n",
            "[8100]\ttraining's l2: 1.5793e+07\ttraining's l1: 2479.93\tvalid_1's l2: 7.06724e+07\tvalid_1's l1: 4140.43\n",
            "[8200]\ttraining's l2: 1.56418e+07\ttraining's l1: 2467.43\tvalid_1's l2: 7.06245e+07\tvalid_1's l1: 4136.57\n",
            "[8300]\ttraining's l2: 1.54699e+07\ttraining's l1: 2453\tvalid_1's l2: 7.05582e+07\tvalid_1's l1: 4131.19\n",
            "[8400]\ttraining's l2: 1.52996e+07\ttraining's l1: 2439.37\tvalid_1's l2: 7.04872e+07\tvalid_1's l1: 4126.63\n",
            "[8500]\ttraining's l2: 1.51421e+07\ttraining's l1: 2425.75\tvalid_1's l2: 7.04282e+07\tvalid_1's l1: 4121.58\n",
            "[8600]\ttraining's l2: 1.49944e+07\ttraining's l1: 2413.09\tvalid_1's l2: 7.03505e+07\tvalid_1's l1: 4117.29\n",
            "[8700]\ttraining's l2: 1.48484e+07\ttraining's l1: 2399.93\tvalid_1's l2: 7.02895e+07\tvalid_1's l1: 4112.54\n",
            "[8800]\ttraining's l2: 1.46854e+07\ttraining's l1: 2385.71\tvalid_1's l2: 7.02107e+07\tvalid_1's l1: 4106.96\n",
            "[8900]\ttraining's l2: 1.45386e+07\ttraining's l1: 2372.42\tvalid_1's l2: 7.01481e+07\tvalid_1's l1: 4102.47\n",
            "[9000]\ttraining's l2: 1.44044e+07\ttraining's l1: 2360.21\tvalid_1's l2: 7.01233e+07\tvalid_1's l1: 4098.41\n",
            "[9100]\ttraining's l2: 1.42562e+07\ttraining's l1: 2347.43\tvalid_1's l2: 7.00736e+07\tvalid_1's l1: 4094.51\n",
            "[9200]\ttraining's l2: 1.41224e+07\ttraining's l1: 2335.7\tvalid_1's l2: 7.00211e+07\tvalid_1's l1: 4091.18\n",
            "[9300]\ttraining's l2: 1.39975e+07\ttraining's l1: 2324.14\tvalid_1's l2: 6.99973e+07\tvalid_1's l1: 4087.85\n",
            "[9400]\ttraining's l2: 1.38725e+07\ttraining's l1: 2312.06\tvalid_1's l2: 6.99464e+07\tvalid_1's l1: 4083.8\n",
            "[9500]\ttraining's l2: 1.37473e+07\ttraining's l1: 2300.94\tvalid_1's l2: 6.98941e+07\tvalid_1's l1: 4080.18\n",
            "[9600]\ttraining's l2: 1.36338e+07\ttraining's l1: 2290.01\tvalid_1's l2: 6.98665e+07\tvalid_1's l1: 4076.74\n",
            "[9700]\ttraining's l2: 1.35041e+07\ttraining's l1: 2278.42\tvalid_1's l2: 6.98202e+07\tvalid_1's l1: 4072.68\n",
            "[9800]\ttraining's l2: 1.33838e+07\ttraining's l1: 2267.29\tvalid_1's l2: 6.97928e+07\tvalid_1's l1: 4069.78\n",
            "[9900]\ttraining's l2: 1.32559e+07\ttraining's l1: 2256.62\tvalid_1's l2: 6.97908e+07\tvalid_1's l1: 4067.05\n",
            "Early stopping, best iteration is:\n",
            "[9877]\ttraining's l2: 1.32869e+07\ttraining's l1: 2259.08\tvalid_1's l2: 6.9783e+07\tvalid_1's l1: 4067.47\n",
            "훈련 R^2:  0.9956140196645621\n",
            "검증 R^2:  0.9772144036059548\n",
            "TEST R^2:  0.9896643501060072\n",
            "\n",
            "훈련 MAE:  2259.084515954728\n",
            "검증 MAE:  4067.4722210302257\n",
            "TEST MAE:  3668.474822567653\n"
          ],
          "name": "stdout"
        }
      ]
    },
    {
      "cell_type": "code",
      "metadata": {
        "id": "7ocFw6hE6rIe"
      },
      "source": [
        "import pickle\n",
        "filename = f'/content/drive/MyDrive/HOUSE_PRICE_PREDICTION/Model/lightgbm.sav'\n",
        "pickle.dump(lightgbm, open(filename, 'wb'))"
      ],
      "execution_count": 55,
      "outputs": []
    }
  ]
}